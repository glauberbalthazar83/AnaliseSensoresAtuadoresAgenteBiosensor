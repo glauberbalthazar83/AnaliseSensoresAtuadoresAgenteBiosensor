{
 "cells": [
  {
   "cell_type": "code",
   "execution_count": 1,
   "metadata": {},
   "outputs": [
    {
     "data": {
      "text/html": [
       "        <script type=\"text/javascript\">\n",
       "        window.PlotlyConfig = {MathJaxConfig: 'local'};\n",
       "        if (window.MathJax) {MathJax.Hub.Config({SVG: {font: \"STIX-Web\"}});}\n",
       "        if (typeof require !== 'undefined') {\n",
       "        require.undef(\"plotly\");\n",
       "        requirejs.config({\n",
       "            paths: {\n",
       "                'plotly': ['https://cdn.plot.ly/plotly-latest.min']\n",
       "            }\n",
       "        });\n",
       "        require(['plotly'], function(Plotly) {\n",
       "            window._Plotly = Plotly;\n",
       "        });\n",
       "        }\n",
       "        </script>\n",
       "        "
      ]
     },
     "metadata": {},
     "output_type": "display_data"
    }
   ],
   "source": [
    "import plotly.offline as py\n",
    "import plotly.graph_objs as go\n",
    "import pandas as pd\n",
    "import seaborn as sns\n",
    "py.init_notebook_mode(connected=True)\n",
    "%matplotlib inline"
   ]
  },
  {
   "cell_type": "code",
   "execution_count": 4,
   "metadata": {},
   "outputs": [],
   "source": [
    "dados  = pd.read_csv(\"/home/balthazar/ARTIGO1/dadospoeira.csv\",sep=\";\")"
   ]
  },
  {
   "cell_type": "code",
   "execution_count": 7,
   "metadata": {},
   "outputs": [
    {
     "name": "stdout",
     "output_type": "stream",
     "text": [
      "True\n"
     ]
    },
    {
     "data": {
      "image/png": "[encoded data removed]",
      "text/plain": [
       "<Figure size 432x288 with 1 Axes>"
      ]
     },
     "metadata": {
      "needs_background": "light"
     },
     "output_type": "display_data"
    }
   ],
   "source": [
    "ax1 = dados.plot(kind='scatter', x='Contador', y='GP2Y1010AU0F', color='r', label='GP2Y1010AU0F') \n",
    "ax1.set_title(label=\"Poeira\")\n",
    "ax2 = dados.plot(kind='scatter', x='Contador', y='DSM501A', color='g', ax=ax1, label='DSM501A')    \n",
    "ax2.set_ylabel('ppm')\n",
    "ax2.set_xlabel('Registros')\n",
    "print(ax1 == ax2)"
   ]
  },
  {
   "cell_type": "code",
   "execution_count": 8,
   "metadata": {},
   "outputs": [
    {
     "data": {
      "text/plain": [
       "<matplotlib.axes._subplots.AxesSubplot at 0x7fbd0f73eb80>"
      ]
     },
     "execution_count": 8,
     "metadata": {},
     "output_type": "execute_result"
    },
    {
     "data": {
      "image/png": "[encoded data removed]",
      "text/plain": [
       "<Figure size 864x432 with 1 Axes>"
      ]
     },
     "metadata": {
      "needs_background": "light"
     },
     "output_type": "display_data"
    }
   ],
   "source": [
    "datasetdados = {\n",
    "    'GP2Y1010AU0F' : dados.GP2Y1010AU0F,\n",
    "    'DSM501A': dados.DSM501A\n",
    "}\n",
    "datasetdados = pd.DataFrame(datasetdados)\n",
    "\n",
    "ax = sns.boxplot(data=datasetdados, orient='h', width=0.5)\n",
    "ax.figure.set_size_inches(12,6)\n",
    "ax.set_title('Poeira', fontsize=20)\n",
    "ax.set_xlabel('ppm', fontsize=16)\n",
    "ax.set_ylabel('Sensores', fontsize=16)\n",
    "ax"
   ]
  },
  {
   "cell_type": "code",
   "execution_count": 9,
   "metadata": {},
   "outputs": [
    {
     "data": {
      "text/html": [
       "<style  type=\"text/css\" >\n",
       "    #T_46576104_2837_11ec_a87f_c700b566423erow0_col0 {\n",
       "            background-color:  #b40426;\n",
       "            color:  #f1f1f1;\n",
       "        }    #T_46576104_2837_11ec_a87f_c700b566423erow0_col1 {\n",
       "            background-color:  #3b4cc0;\n",
       "            color:  #f1f1f1;\n",
       "        }    #T_46576104_2837_11ec_a87f_c700b566423erow1_col0 {\n",
       "            background-color:  #3b4cc0;\n",
       "            color:  #f1f1f1;\n",
       "        }    #T_46576104_2837_11ec_a87f_c700b566423erow1_col1 {\n",
       "            background-color:  #b40426;\n",
       "            color:  #f1f1f1;\n",
       "        }</style><table id=\"T_46576104_2837_11ec_a87f_c700b566423e\" ><thead>    <tr>        <th class=\"blank level0\" ></th>        <th class=\"col_heading level0 col0\" >GP2Y1010AU0F</th>        <th class=\"col_heading level0 col1\" >DSM501A</th>    </tr></thead><tbody>\n",
       "                <tr>\n",
       "                        <th id=\"T_46576104_2837_11ec_a87f_c700b566423elevel0_row0\" class=\"row_heading level0 row0\" >GP2Y1010AU0F</th>\n",
       "                        <td id=\"T_46576104_2837_11ec_a87f_c700b566423erow0_col0\" class=\"data row0 col0\" >1.000000</td>\n",
       "                        <td id=\"T_46576104_2837_11ec_a87f_c700b566423erow0_col1\" class=\"data row0 col1\" >0.997034</td>\n",
       "            </tr>\n",
       "            <tr>\n",
       "                        <th id=\"T_46576104_2837_11ec_a87f_c700b566423elevel0_row1\" class=\"row_heading level0 row1\" >DSM501A</th>\n",
       "                        <td id=\"T_46576104_2837_11ec_a87f_c700b566423erow1_col0\" class=\"data row1 col0\" >0.997034</td>\n",
       "                        <td id=\"T_46576104_2837_11ec_a87f_c700b566423erow1_col1\" class=\"data row1 col1\" >1.000000</td>\n",
       "            </tr>\n",
       "    </tbody></table>"
      ],
      "text/plain": [
       "<pandas.io.formats.style.Styler at 0x7fbd0f6a6760>"
      ]
     },
     "execution_count": 9,
     "metadata": {},
     "output_type": "execute_result"
    }
   ],
   "source": [
    "dataSetGeral = {\n",
    "    'GP2Y1010AU0F' : dados.GP2Y1010AU0F,\n",
    "    'DSM501A': dados.DSM501A\n",
    "}\n",
    "dataSetGeral = pd.DataFrame(dataSetGeral)\n",
    "\n",
    "#analise de correlacao\n",
    "#pearson\n",
    "corr = dataSetGeral.corr()\n",
    "corr.style.background_gradient(cmap='coolwarm')"
   ]
  },
  {
   "cell_type": "code",
   "execution_count": null,
   "metadata": {},
   "outputs": [],
   "source": []
  }
 ],
 "metadata": {
  "kernelspec": {
   "display_name": "Python 3",
   "language": "python",
   "name": "python3"
  },
  "language_info": {
   "codemirror_mode": {
    "name": "ipython",
    "version": 3
   },
   "file_extension": ".py",
   "mimetype": "text/x-python",
   "name": "python",
   "nbconvert_exporter": "python",
   "pygments_lexer": "ipython3",
   "version": "3.8.3"
  }
 },
 "nbformat": 4,
 "nbformat_minor": 4
}
