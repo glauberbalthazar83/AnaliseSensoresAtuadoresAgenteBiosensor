{
 "cells": [
  {
   "cell_type": "code",
   "execution_count": 1,
   "metadata": {},
   "outputs": [
    {
     "data": {
      "text/html": [
       "        <script type=\"text/javascript\">\n",
       "        window.PlotlyConfig = {MathJaxConfig: 'local'};\n",
       "        if (window.MathJax) {MathJax.Hub.Config({SVG: {font: \"STIX-Web\"}});}\n",
       "        if (typeof require !== 'undefined') {\n",
       "        require.undef(\"plotly\");\n",
       "        requirejs.config({\n",
       "            paths: {\n",
       "                'plotly': ['https://cdn.plot.ly/plotly-latest.min']\n",
       "            }\n",
       "        });\n",
       "        require(['plotly'], function(Plotly) {\n",
       "            window._Plotly = Plotly;\n",
       "        });\n",
       "        }\n",
       "        </script>\n",
       "        "
      ]
     },
     "metadata": {},
     "output_type": "display_data"
    }
   ],
   "source": [
    "import plotly.offline as py\n",
    "import plotly.graph_objs as go\n",
    "import pandas as pd\n",
    "import seaborn as sns\n",
    "py.init_notebook_mode(connected=True)\n",
    "%matplotlib inline"
   ]
  },
  {
   "cell_type": "code",
   "execution_count": 2,
   "metadata": {},
   "outputs": [],
   "source": [
    "dados  = pd.read_csv(\"/home/balthazar/ARTIGO1/dados_monoxido_carbono.csv\",sep=\";\")"
   ]
  },
  {
   "cell_type": "code",
   "execution_count": 5,
   "metadata": {},
   "outputs": [
    {
     "name": "stdout",
     "output_type": "stream",
     "text": [
      "True\n"
     ]
    },
    {
     "data": {
      "image/png": "[encoded data removed]",
      "text/plain": [
       "<Figure size 432x288 with 1 Axes>"
      ]
     },
     "metadata": {
      "needs_background": "light"
     },
     "output_type": "display_data"
    }
   ],
   "source": [
    "ax1 = dados.plot(kind='scatter', x='Contador', y='CJMCU6814', color='r', label='CJMCU6814') \n",
    "ax1.set_title(label=\"Monóxido de Carbono\")\n",
    "ax2 = dados.plot(kind='scatter', x='Contador', y='MICS5524', color='g', ax=ax1, label='MICS5524')    \n",
    "ax3 = dados.plot(kind='scatter', x='Contador', y='MQ7', color='b', ax=ax1, label='MQ7')   \n",
    "ax3.set_ylabel('ppm')\n",
    "ax3.set_xlabel('Registros')\n",
    "print(ax1 == ax2 == ax3)"
   ]
  },
  {
   "cell_type": "code",
   "execution_count": 6,
   "metadata": {},
   "outputs": [
    {
     "data": {
      "text/plain": [
       "<matplotlib.axes._subplots.AxesSubplot at 0x7f76be6428e0>"
      ]
     },
     "execution_count": 6,
     "metadata": {},
     "output_type": "execute_result"
    },
    {
     "data": {
      "image/png": "[encoded data removed]",
      "text/plain": [
       "<Figure size 864x432 with 1 Axes>"
      ]
     },
     "metadata": {
      "needs_background": "light"
     },
     "output_type": "display_data"
    }
   ],
   "source": [
    "datasetdados = {\n",
    "    'CJMCU6814' : dados.CJMCU6814,\n",
    "    'MICS5524': dados.MICS5524,\n",
    "    'MQ7':dados.MQ7\n",
    "}\n",
    "datasetdados = pd.DataFrame(datasetdados)\n",
    "\n",
    "ax = sns.boxplot(data=datasetdados, orient='h', width=0.5)\n",
    "ax.figure.set_size_inches(12,6)\n",
    "ax.set_title('Monóxido de Carbono', fontsize=20)\n",
    "ax.set_xlabel('ppm', fontsize=16)\n",
    "ax.set_ylabel('Sensores', fontsize=16)\n",
    "ax"
   ]
  },
  {
   "cell_type": "code",
   "execution_count": 7,
   "metadata": {},
   "outputs": [
    {
     "data": {
      "text/html": [
       "<style  type=\"text/css\" >\n",
       "    #T_c6690a6e_27ba_11ec_a9a4_71344dcb6593row0_col0 {\n",
       "            background-color:  #b40426;\n",
       "            color:  #f1f1f1;\n",
       "        }    #T_c6690a6e_27ba_11ec_a9a4_71344dcb6593row0_col1 {\n",
       "            background-color:  #3b4cc0;\n",
       "            color:  #f1f1f1;\n",
       "        }    #T_c6690a6e_27ba_11ec_a9a4_71344dcb6593row0_col2 {\n",
       "            background-color:  #3b4cc0;\n",
       "            color:  #f1f1f1;\n",
       "        }    #T_c6690a6e_27ba_11ec_a9a4_71344dcb6593row1_col0 {\n",
       "            background-color:  #3b4cc0;\n",
       "            color:  #f1f1f1;\n",
       "        }    #T_c6690a6e_27ba_11ec_a9a4_71344dcb6593row1_col1 {\n",
       "            background-color:  #b40426;\n",
       "            color:  #f1f1f1;\n",
       "        }    #T_c6690a6e_27ba_11ec_a9a4_71344dcb6593row1_col2 {\n",
       "            background-color:  #d6dce4;\n",
       "            color:  #000000;\n",
       "        }    #T_c6690a6e_27ba_11ec_a9a4_71344dcb6593row2_col0 {\n",
       "            background-color:  #8badfd;\n",
       "            color:  #000000;\n",
       "        }    #T_c6690a6e_27ba_11ec_a9a4_71344dcb6593row2_col1 {\n",
       "            background-color:  #f2cab5;\n",
       "            color:  #000000;\n",
       "        }    #T_c6690a6e_27ba_11ec_a9a4_71344dcb6593row2_col2 {\n",
       "            background-color:  #b40426;\n",
       "            color:  #f1f1f1;\n",
       "        }</style><table id=\"T_c6690a6e_27ba_11ec_a9a4_71344dcb6593\" ><thead>    <tr>        <th class=\"blank level0\" ></th>        <th class=\"col_heading level0 col0\" >CJMCU6814</th>        <th class=\"col_heading level0 col1\" >MICS5524</th>        <th class=\"col_heading level0 col2\" >MQ7</th>    </tr></thead><tbody>\n",
       "                <tr>\n",
       "                        <th id=\"T_c6690a6e_27ba_11ec_a9a4_71344dcb6593level0_row0\" class=\"row_heading level0 row0\" >CJMCU6814</th>\n",
       "                        <td id=\"T_c6690a6e_27ba_11ec_a9a4_71344dcb6593row0_col0\" class=\"data row0 col0\" >1.000000</td>\n",
       "                        <td id=\"T_c6690a6e_27ba_11ec_a9a4_71344dcb6593row0_col1\" class=\"data row0 col1\" >0.973158</td>\n",
       "                        <td id=\"T_c6690a6e_27ba_11ec_a9a4_71344dcb6593row0_col2\" class=\"data row0 col2\" >0.979704</td>\n",
       "            </tr>\n",
       "            <tr>\n",
       "                        <th id=\"T_c6690a6e_27ba_11ec_a9a4_71344dcb6593level0_row1\" class=\"row_heading level0 row1\" >MICS5524</th>\n",
       "                        <td id=\"T_c6690a6e_27ba_11ec_a9a4_71344dcb6593row1_col0\" class=\"data row1 col0\" >0.973158</td>\n",
       "                        <td id=\"T_c6690a6e_27ba_11ec_a9a4_71344dcb6593row1_col1\" class=\"data row1 col1\" >1.000000</td>\n",
       "                        <td id=\"T_c6690a6e_27ba_11ec_a9a4_71344dcb6593row1_col2\" class=\"data row1 col2\" >0.989331</td>\n",
       "            </tr>\n",
       "            <tr>\n",
       "                        <th id=\"T_c6690a6e_27ba_11ec_a9a4_71344dcb6593level0_row2\" class=\"row_heading level0 row2\" >MQ7</th>\n",
       "                        <td id=\"T_c6690a6e_27ba_11ec_a9a4_71344dcb6593row2_col0\" class=\"data row2 col0\" >0.979704</td>\n",
       "                        <td id=\"T_c6690a6e_27ba_11ec_a9a4_71344dcb6593row2_col1\" class=\"data row2 col1\" >0.989331</td>\n",
       "                        <td id=\"T_c6690a6e_27ba_11ec_a9a4_71344dcb6593row2_col2\" class=\"data row2 col2\" >1.000000</td>\n",
       "            </tr>\n",
       "    </tbody></table>"
      ],
      "text/plain": [
       "<pandas.io.formats.style.Styler at 0x7f76be456f40>"
      ]
     },
     "execution_count": 7,
     "metadata": {},
     "output_type": "execute_result"
    }
   ],
   "source": [
    "dataSetGeral = {\n",
    "    'CJMCU6814' : dados.CJMCU6814,\n",
    "    'MICS5524': dados.MICS5524,\n",
    "    'MQ7':dados.MQ7\n",
    "}\n",
    "dataSetGeral = pd.DataFrame(dataSetGeral)\n",
    "\n",
    "#analise de correlacao\n",
    "#pearson\n",
    "corr = dataSetGeral.corr()\n",
    "corr.style.background_gradient(cmap='coolwarm')"
   ]
  },
  {
   "cell_type": "code",
   "execution_count": null,
   "metadata": {},
   "outputs": [],
   "source": []
  }
 ],
 "metadata": {
  "kernelspec": {
   "display_name": "Python 3",
   "language": "python",
   "name": "python3"
  },
  "language_info": {
   "codemirror_mode": {
    "name": "ipython",
    "version": 3
   },
   "file_extension": ".py",
   "mimetype": "text/x-python",
   "name": "python",
   "nbconvert_exporter": "python",
   "pygments_lexer": "ipython3",
   "version": "3.8.3"
  }
 },
 "nbformat": 4,
 "nbformat_minor": 4
}
